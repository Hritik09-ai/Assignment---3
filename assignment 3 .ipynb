{
 "cells": [
  {
   "cell_type": "code",
   "execution_count": 1,
   "id": "ca5a0015-1752-41d9-9667-5f7177d2ca52",
   "metadata": {},
   "outputs": [],
   "source": [
    "\n",
    "#QUESTION.1 Which keyword is used to create function ? create a function to return a list of odd number in \n",
    "# range of 1 to 25.\n",
    "\n",
    "#ANSWER The \"def \" keyword is used to create a function in python.\n",
    "# For example\n",
    "def test1():\n",
    "    a1 = []\n",
    "    for i in range(1,26) :\n",
    "        if i % 2 != 0 :\n",
    "            a1.append(i)\n",
    "    return a1        "
   ]
  },
  {
   "cell_type": "code",
   "execution_count": 2,
   "id": "8a1182f1-dbe8-4a01-87a3-9b3bfb111efc",
   "metadata": {},
   "outputs": [],
   "source": [
    "a = test1()"
   ]
  },
  {
   "cell_type": "code",
   "execution_count": 3,
   "id": "874d4e92-51d0-447f-8d6d-f49481a4382a",
   "metadata": {},
   "outputs": [
    {
     "name": "stdout",
     "output_type": "stream",
     "text": [
      "[1, 3, 5, 7, 9, 11, 13, 15, 17, 19, 21, 23, 25]\n"
     ]
    }
   ],
   "source": [
    "print(a)"
   ]
  },
  {
   "cell_type": "code",
   "execution_count": null,
   "id": "d00a91a0-a02a-44c3-bd3a-24e317912cd7",
   "metadata": {},
   "outputs": [],
   "source": []
  },
  {
   "cell_type": "code",
   "execution_count": null,
   "id": "3be87ad1-e92a-45d8-9749-3ae0b0b51bcb",
   "metadata": {},
   "outputs": [],
   "source": [
    "\n",
    "#OUESTION.2 why *args and **kwargs is use in some functions? create a function each for *args and **kwargs to \n",
    "# demonstrate their use.\n",
    "\n",
    "#ANSWER. The *args and **kwargs are special syntax use to allow the passing of a variable number of argment to a \n",
    "#function. the *args keyword is allows you to pass any number of argument to a function, and those arguments are\n",
    "#collected into a tuple. \n",
    "# on the other hand, **kwargs allowes you to pass a variable number of keyword to a function.It collect the argument \n",
    "# into a dictinory"
   ]
  },
  {
   "cell_type": "code",
   "execution_count": null,
   "id": "e3fa28cb-868f-41fa-94f0-9ff379ba2cde",
   "metadata": {},
   "outputs": [],
   "source": [
    "# for *args    "
   ]
  },
  {
   "cell_type": "code",
   "execution_count": 4,
   "id": "85aee97c-35a4-48a7-9ed0-43b485e50037",
   "metadata": {},
   "outputs": [],
   "source": [
    "def test(*args) :\n",
    "    return args"
   ]
  },
  {
   "cell_type": "code",
   "execution_count": 5,
   "id": "61c503a9-238a-4c86-af5d-f38f94eb72d9",
   "metadata": {},
   "outputs": [
    {
     "data": {
      "text/plain": [
       "(1, 2, 3, 4)"
      ]
     },
     "execution_count": 5,
     "metadata": {},
     "output_type": "execute_result"
    }
   ],
   "source": [
    "test(1,2,3,4)"
   ]
  },
  {
   "cell_type": "code",
   "execution_count": 6,
   "id": "e0817a17-1b68-4e88-bd95-747194513bee",
   "metadata": {},
   "outputs": [],
   "source": [
    "# for *kwargs "
   ]
  },
  {
   "cell_type": "code",
   "execution_count": 7,
   "id": "8f6c26f6-42e5-49eb-8950-37c944a7d8bd",
   "metadata": {},
   "outputs": [],
   "source": [
    "def test1(**kwargs) :\n",
    "    return kwargs"
   ]
  },
  {
   "cell_type": "code",
   "execution_count": 8,
   "id": "b594b431-0022-48d2-98d7-286ca6fa2f97",
   "metadata": {},
   "outputs": [
    {
     "data": {
      "text/plain": [
       "{'a': [1, 2, 3, 4], 'b': 44}"
      ]
     },
     "execution_count": 8,
     "metadata": {},
     "output_type": "execute_result"
    }
   ],
   "source": [
    "test1(a = [1,2,3,4] , b = 44)"
   ]
  },
  {
   "cell_type": "code",
   "execution_count": null,
   "id": "e90d2f33-a747-4a16-93cc-9e0d51a108cd",
   "metadata": {},
   "outputs": [],
   "source": []
  },
  {
   "cell_type": "code",
   "execution_count": null,
   "id": "2d81a809-a24f-4508-a17c-0004ae6a9a9e",
   "metadata": {},
   "outputs": [],
   "source": [
    "\n",
    "\n",
    "#QUESTION.3 What is an iterator in python? Name the methord used to initialise the iterator object and the methord \n",
    "#used for iteration. Use these methord to print the first five elements of the given list[2,4,6,8,10,12,14,16,18,20].\n",
    "\n",
    "#ANSWER An iterator is an object that allows you to traverse through elememts of a collection or sequence, such as a \n",
    "#list,tuple or dictinory.\n",
    "\n",
    "# The iter() methord is used to initialize the iterator object and returns the iterator tself.It is called when an \n",
    "# iterator object is created.\n",
    "\n",
    "# The next() method is used for iteration. It return the next element in the sequence. when there the next element in\n",
    "# the sequence.\n"
   ]
  },
  {
   "cell_type": "code",
   "execution_count": 9,
   "id": "b098e6f1-ded3-4473-85b6-2c773fad426b",
   "metadata": {},
   "outputs": [
    {
     "name": "stdout",
     "output_type": "stream",
     "text": [
      "2\n",
      "4\n",
      "6\n",
      "8\n",
      "10\n"
     ]
    }
   ],
   "source": [
    "# To print the first five elements of the give list [2,4,6,8,10,12,14,16,18,20] using an iterator\n",
    "\n",
    "l = [2,4,6,8,10,12,14,16,18,20]\n",
    "iterator = iter(l)\n",
    "for i in range(5):\n",
    "    print(next(iterator))\n"
   ]
  },
  {
   "cell_type": "code",
   "execution_count": null,
   "id": "24d6d1c5-4e3f-4cb7-926a-e4f395b83e9c",
   "metadata": {},
   "outputs": [],
   "source": []
  },
  {
   "cell_type": "code",
   "execution_count": 10,
   "id": "06e205b5-4e9c-46be-a7e1-a51354fbd728",
   "metadata": {},
   "outputs": [],
   "source": [
    "\n",
    "# QUESTION.4 What is generator function in python? why yield keyword is used? give an example of a generator function.\n",
    "\n",
    "# ANSWERS A generator function is a special type of function that generates a sequence of value instead of returning a\n",
    "# single value .Yield keyward is used instead of return to produce a series of value called an iterator.\n",
    "# For Example:\n",
    "def test_fib(n):\n",
    "    a,b = 0,1\n",
    "    for i in range(n):\n",
    "        yield a \n",
    "        a,b = b , a+b\n",
    "        \n"
   ]
  },
  {
   "cell_type": "code",
   "execution_count": 11,
   "id": "bf567ba4-ecfa-497a-9f52-46c7c243f4a0",
   "metadata": {},
   "outputs": [
    {
     "name": "stdout",
     "output_type": "stream",
     "text": [
      "0\n",
      "1\n",
      "1\n",
      "2\n",
      "3\n",
      "5\n",
      "8\n",
      "13\n",
      "21\n",
      "34\n"
     ]
    }
   ],
   "source": [
    "test_fib(10)\n",
    "for i in test_fib(10):\n",
    "    print(i)"
   ]
  },
  {
   "cell_type": "code",
   "execution_count": null,
   "id": "5d7cb214-2e70-4522-9b0a-7b1757222169",
   "metadata": {},
   "outputs": [],
   "source": []
  },
  {
   "cell_type": "code",
   "execution_count": 12,
   "id": "a4e842cc-d71f-4169-910c-5303573938ff",
   "metadata": {},
   "outputs": [],
   "source": [
    "\n",
    "# QUESTION.4 Create a generator function for prime number less than 1000. Use the next() method to print the first 20\n",
    "# prime number.\n",
    "# ANSWER \n",
    "def prime_1(n):\n",
    "    \n",
    "    if n <= 1 :\n",
    "        return False\n",
    "    if n <= 3 :\n",
    "        return True\n",
    "    if n % 2 == 0 or n % 3 == 0 :\n",
    "        return False \n",
    "    i = 5\n",
    "    while i * i <= n :\n",
    "        if n % i == 0 or n % (i + 2 ) == 0 :\n",
    "            \n",
    "            return False\n",
    "        i +- 6 \n",
    "       \n",
    "    return True\n",
    "\n",
    "def prime_generator(limit) :\n",
    "    n = 2 \n",
    "    while n < limit :\n",
    "        if prime_1(n) :\n",
    "            yield n \n",
    "           \n",
    "        n +- 1\n",
    "       \n",
    "    generator = prime_generator()\n",
    "    first_20_primes = [next(prime_generator) for i in range(20)]\n",
    "    "
   ]
  },
  {
   "cell_type": "code",
   "execution_count": null,
   "id": "7b7113e8-02cf-46d0-aed1-d7d1d37153a8",
   "metadata": {},
   "outputs": [],
   "source": [
    "\n"
   ]
  },
  {
   "cell_type": "code",
   "execution_count": 13,
   "id": "2d721841-95b3-4125-985e-65693b6293c7",
   "metadata": {},
   "outputs": [
    {
     "name": "stdout",
     "output_type": "stream",
     "text": [
      "[0, 1, 1, 2, 3, 5, 8, 13, 21, 34]\n"
     ]
    }
   ],
   "source": [
    "\n",
    "# OUESTION.6 Write a python program to print the first 10 fibonaci number using a while loop.\n",
    "# ANSWER\n",
    "def fibonacci_number(count):\n",
    "    fib_list = [0,1]\n",
    "    while len(fib_list) < count:\n",
    "        next_num = fib_list[-1] + fib_list[-2]\n",
    "        fib_list.append(next_num)\n",
    "    return fib_list\n",
    "fib_sequence = fibonacci_number(10)\n",
    "print(fib_sequence)"
   ]
  },
  {
   "cell_type": "code",
   "execution_count": 14,
   "id": "f0527465-7d01-410c-a8bf-4552502d29a9",
   "metadata": {},
   "outputs": [],
   "source": [
    "\n",
    "# OUESTION.7 Write a list comprehension to iterate through the given string 'pwskills'.\n",
    "# Expected output ['p','w','s','k','i','l','l','s']\n",
    "a = 'pwskills'\n",
    "a1 = []\n",
    "for i in a :\n",
    "    a1.append(i)"
   ]
  },
  {
   "cell_type": "code",
   "execution_count": 15,
   "id": "2a57c783-1e16-488b-a246-aebbcd8d5de5",
   "metadata": {},
   "outputs": [
    {
     "data": {
      "text/plain": [
       "['p', 'w', 's', 'k', 'i', 'l', 'l', 's']"
      ]
     },
     "execution_count": 15,
     "metadata": {},
     "output_type": "execute_result"
    }
   ],
   "source": [
    "a1"
   ]
  },
  {
   "cell_type": "code",
   "execution_count": null,
   "id": "4eab9d35-b34d-4b99-bd90-2b0febaf8231",
   "metadata": {},
   "outputs": [],
   "source": []
  },
  {
   "cell_type": "code",
   "execution_count": 16,
   "id": "3019bbac-0427-4da2-97f5-ed0fb83a565b",
   "metadata": {},
   "outputs": [
    {
     "name": "stdout",
     "output_type": "stream",
     "text": [
      "palindrome\n"
     ]
    }
   ],
   "source": [
    "#QUESTION.8 Write a python program to check whether a given number is palindrome or not using a while loop.\n",
    "\n",
    "#ANSWER \n",
    "num = 1221\n",
    "temp = num \n",
    "reverse = 0 \n",
    "while temp > 0 :\n",
    "    remainder = temp % 10\n",
    "    reverse = (reverse * 10) + remainder\n",
    "    temp = temp // 10\n",
    "if num == reverse :\n",
    "    print('palindrome')\n",
    "else :\n",
    "    print('not palindrome')"
   ]
  },
  {
   "cell_type": "code",
   "execution_count": 17,
   "id": "0a9fd7d9-f94f-4420-b496-4d1cdf39282a",
   "metadata": {},
   "outputs": [
    {
     "name": "stdout",
     "output_type": "stream",
     "text": [
      "[1, 3, 5, 7, 9, 11, 13, 15, 17, 19, 21, 23, 25, 27, 29, 31, 33, 35, 37, 39, 41, 43, 45, 47, 49, 51, 53, 55, 57, 59, 61, 63, 65, 67, 69, 71, 73, 75, 77, 79, 81, 83, 85, 87, 89, 91, 93, 95, 97, 99]\n"
     ]
    }
   ],
   "source": [
    "# QUESTION.9 Write a code to print odd number from 1 to 100 using list comprehension.\n",
    "#ANSWER \n",
    "\n",
    "odd_list = [element for element in range(1,101) if element%2 == 1]\n",
    "print(odd_list)"
   ]
  },
  {
   "cell_type": "code",
   "execution_count": null,
   "id": "6b15346f-3465-4eb0-8348-8e1529400c0f",
   "metadata": {},
   "outputs": [],
   "source": [
    "\n"
   ]
  },
  {
   "cell_type": "code",
   "execution_count": null,
   "id": "d4f22deb-d0c2-4f91-929d-59bf2a494b89",
   "metadata": {},
   "outputs": [],
   "source": []
  }
 ],
 "metadata": {
  "kernelspec": {
   "display_name": "Python 3 (ipykernel)",
   "language": "python",
   "name": "python3"
  },
  "language_info": {
   "codemirror_mode": {
    "name": "ipython",
    "version": 3
   },
   "file_extension": ".py",
   "mimetype": "text/x-python",
   "name": "python",
   "nbconvert_exporter": "python",
   "pygments_lexer": "ipython3",
   "version": "3.10.8"
  }
 },
 "nbformat": 4,
 "nbformat_minor": 5
}
